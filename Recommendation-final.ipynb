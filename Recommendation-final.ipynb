{
 "cells": [
  {
   "cell_type": "code",
   "execution_count": 44,
   "metadata": {
    "collapsed": true
   },
   "outputs": [],
   "source": [
    "import pandas as pd\n",
    "import numpy as np"
   ]
  },
  {
   "cell_type": "code",
   "execution_count": 45,
   "metadata": {
    "collapsed": true
   },
   "outputs": [],
   "source": [
    "# adding programming, author, Year to train --  done in excel because excel uses multiple processors to do this\n",
    "# adding programming and author to test as well. It can be easily done in the code by looking up but currently my computing power is low\n",
    "# I have sample code below"
   ]
  },
  {
   "cell_type": "code",
   "execution_count": 46,
   "metadata": {},
   "outputs": [
    {
     "name": "stderr",
     "output_type": "stream",
     "text": [
      "C:\\Users\\320006523\\AppData\\Local\\Continuum\\anaconda3\\lib\\site-packages\\IPython\\core\\interactiveshell.py:2698: DtypeWarning: Columns (5) have mixed types. Specify dtype option on import or set low_memory=False.\n",
      "  interactivity=interactivity, compiler=compiler, result=result)\n"
     ]
    }
   ],
   "source": [
    "challenge = pd.read_csv(\"challenge_data.csv\") # read challenge data set\n",
    "users_data_train = pd.read_csv(\"train.csv\") # train data\n",
    "test = pd.read_csv(\"test.csv\")"
   ]
  },
  {
   "cell_type": "code",
   "execution_count": 47,
   "metadata": {},
   "outputs": [
    {
     "name": "stderr",
     "output_type": "stream",
     "text": [
      "C:\\Users\\320006523\\AppData\\Local\\Continuum\\anaconda3\\lib\\site-packages\\ipykernel_launcher.py:7: SettingWithCopyWarning: \n",
      "A value is trying to be set on a copy of a slice from a DataFrame.\n",
      "Try using .loc[row_indexer,col_indexer] = value instead\n",
      "\n",
      "See the caveats in the documentation: http://pandas.pydata.org/pandas-docs/stable/indexing.html#indexing-view-versus-copy\n",
      "  import sys\n"
     ]
    }
   ],
   "source": [
    "# popular categories based on programming language and year\n",
    "\n",
    "# get selected columns\n",
    "temp = challenge[[\"challenge_ID\",\"programming_language\",\"publish_date\",\"author_ID\"]]\n",
    "\n",
    "# Get year from date\n",
    "temp[\"Year\"] = pd.to_datetime(temp.loc[:,\"publish_date\"]).dt.year\n",
    "\n",
    "# drop publish date\n",
    "temp = temp.drop([\"publish_date\"], axis = 1)\n",
    "\n",
    "# Target columns\n",
    "temp[\"total_submissions\"] = challenge[\"total_submissions\"]\n",
    "\n",
    "# sort the target\n",
    "temp = temp.sort_values(by=[\"total_submissions\"], ascending= False)\n",
    "temp.index = np.arange(0,len(temp))"
   ]
  },
  {
   "cell_type": "code",
   "execution_count": 48,
   "metadata": {},
   "outputs": [
    {
     "data": {
      "text/html": [
       "<div>\n",
       "<style>\n",
       "    .dataframe thead tr:only-child th {\n",
       "        text-align: right;\n",
       "    }\n",
       "\n",
       "    .dataframe thead th {\n",
       "        text-align: left;\n",
       "    }\n",
       "\n",
       "    .dataframe tbody tr th {\n",
       "        vertical-align: top;\n",
       "    }\n",
       "</style>\n",
       "<table border=\"1\" class=\"dataframe\">\n",
       "  <thead>\n",
       "    <tr style=\"text-align: right;\">\n",
       "      <th></th>\n",
       "      <th>challenge_ID</th>\n",
       "      <th>programming_language</th>\n",
       "      <th>author_ID</th>\n",
       "      <th>Year</th>\n",
       "      <th>total_submissions</th>\n",
       "    </tr>\n",
       "  </thead>\n",
       "  <tbody>\n",
       "    <tr>\n",
       "      <th>0</th>\n",
       "      <td>CI24917</td>\n",
       "      <td>1</td>\n",
       "      <td>AI564588</td>\n",
       "      <td>2007</td>\n",
       "      <td>43409.0</td>\n",
       "    </tr>\n",
       "    <tr>\n",
       "      <th>1</th>\n",
       "      <td>CI23855</td>\n",
       "      <td>1</td>\n",
       "      <td>AI563823</td>\n",
       "      <td>2006</td>\n",
       "      <td>20993.0</td>\n",
       "    </tr>\n",
       "    <tr>\n",
       "      <th>2</th>\n",
       "      <td>CI24261</td>\n",
       "      <td>1</td>\n",
       "      <td>AI564133</td>\n",
       "      <td>2005</td>\n",
       "      <td>20674.0</td>\n",
       "    </tr>\n",
       "    <tr>\n",
       "      <th>3</th>\n",
       "      <td>CI23933</td>\n",
       "      <td>1</td>\n",
       "      <td>AI563783</td>\n",
       "      <td>2006</td>\n",
       "      <td>15086.0</td>\n",
       "    </tr>\n",
       "    <tr>\n",
       "      <th>4</th>\n",
       "      <td>CI23714</td>\n",
       "      <td>1</td>\n",
       "      <td>AI563766</td>\n",
       "      <td>2006</td>\n",
       "      <td>14723.0</td>\n",
       "    </tr>\n",
       "  </tbody>\n",
       "</table>\n",
       "</div>"
      ],
      "text/plain": [
       "  challenge_ID  programming_language author_ID  Year  total_submissions\n",
       "0      CI24917                     1  AI564588  2007            43409.0\n",
       "1      CI23855                     1  AI563823  2006            20993.0\n",
       "2      CI24261                     1  AI564133  2005            20674.0\n",
       "3      CI23933                     1  AI563783  2006            15086.0\n",
       "4      CI23714                     1  AI563766  2006            14723.0"
      ]
     },
     "execution_count": 48,
     "metadata": {},
     "output_type": "execute_result"
    }
   ],
   "source": [
    "temp.head()"
   ]
  },
  {
   "cell_type": "code",
   "execution_count": 49,
   "metadata": {},
   "outputs": [
    {
     "data": {
      "text/html": [
       "<div>\n",
       "<style>\n",
       "    .dataframe thead tr:only-child th {\n",
       "        text-align: right;\n",
       "    }\n",
       "\n",
       "    .dataframe thead th {\n",
       "        text-align: left;\n",
       "    }\n",
       "\n",
       "    .dataframe tbody tr th {\n",
       "        vertical-align: top;\n",
       "    }\n",
       "</style>\n",
       "<table border=\"1\" class=\"dataframe\">\n",
       "  <thead>\n",
       "    <tr style=\"text-align: right;\">\n",
       "      <th></th>\n",
       "      <th>user_sequence</th>\n",
       "      <th>user_id</th>\n",
       "      <th>challenge_sequence</th>\n",
       "      <th>challenge</th>\n",
       "      <th>programming</th>\n",
       "      <th>author_org_ID</th>\n",
       "    </tr>\n",
       "  </thead>\n",
       "  <tbody>\n",
       "    <tr>\n",
       "      <th>0</th>\n",
       "      <td>4576_1</td>\n",
       "      <td>4576</td>\n",
       "      <td>1</td>\n",
       "      <td>CI23714</td>\n",
       "      <td>1</td>\n",
       "      <td>AOI100129</td>\n",
       "    </tr>\n",
       "    <tr>\n",
       "      <th>1</th>\n",
       "      <td>4576_2</td>\n",
       "      <td>4576</td>\n",
       "      <td>2</td>\n",
       "      <td>CI23855</td>\n",
       "      <td>1</td>\n",
       "      <td>0</td>\n",
       "    </tr>\n",
       "    <tr>\n",
       "      <th>2</th>\n",
       "      <td>4576_3</td>\n",
       "      <td>4576</td>\n",
       "      <td>3</td>\n",
       "      <td>CI24917</td>\n",
       "      <td>1</td>\n",
       "      <td>AOI100581</td>\n",
       "    </tr>\n",
       "    <tr>\n",
       "      <th>3</th>\n",
       "      <td>4576_4</td>\n",
       "      <td>4576</td>\n",
       "      <td>4</td>\n",
       "      <td>CI23663</td>\n",
       "      <td>1</td>\n",
       "      <td>AOI100098</td>\n",
       "    </tr>\n",
       "    <tr>\n",
       "      <th>4</th>\n",
       "      <td>4576_5</td>\n",
       "      <td>4576</td>\n",
       "      <td>5</td>\n",
       "      <td>CI23933</td>\n",
       "      <td>1</td>\n",
       "      <td>AOI100149</td>\n",
       "    </tr>\n",
       "  </tbody>\n",
       "</table>\n",
       "</div>"
      ],
      "text/plain": [
       "  user_sequence  user_id  challenge_sequence challenge  programming  \\\n",
       "0        4576_1     4576                   1   CI23714            1   \n",
       "1        4576_2     4576                   2   CI23855            1   \n",
       "2        4576_3     4576                   3   CI24917            1   \n",
       "3        4576_4     4576                   4   CI23663            1   \n",
       "4        4576_5     4576                   5   CI23933            1   \n",
       "\n",
       "  author_org_ID  \n",
       "0     AOI100129  \n",
       "1             0  \n",
       "2     AOI100581  \n",
       "3     AOI100098  \n",
       "4     AOI100149  "
      ]
     },
     "execution_count": 49,
     "metadata": {},
     "output_type": "execute_result"
    }
   ],
   "source": [
    "users_data_train.head()"
   ]
  },
  {
   "cell_type": "code",
   "execution_count": 50,
   "metadata": {},
   "outputs": [
    {
     "data": {
      "text/html": [
       "<div>\n",
       "<style>\n",
       "    .dataframe thead tr:only-child th {\n",
       "        text-align: right;\n",
       "    }\n",
       "\n",
       "    .dataframe thead th {\n",
       "        text-align: left;\n",
       "    }\n",
       "\n",
       "    .dataframe tbody tr th {\n",
       "        vertical-align: top;\n",
       "    }\n",
       "</style>\n",
       "<table border=\"1\" class=\"dataframe\">\n",
       "  <thead>\n",
       "    <tr style=\"text-align: right;\">\n",
       "      <th></th>\n",
       "      <th>user_sequence</th>\n",
       "      <th>user_id</th>\n",
       "      <th>challenge_sequence</th>\n",
       "      <th>challenge</th>\n",
       "      <th>programming</th>\n",
       "      <th>Author</th>\n",
       "      <th>Year</th>\n",
       "    </tr>\n",
       "  </thead>\n",
       "  <tbody>\n",
       "    <tr>\n",
       "      <th>0</th>\n",
       "      <td>4577_1</td>\n",
       "      <td>4577</td>\n",
       "      <td>1</td>\n",
       "      <td>CI23855</td>\n",
       "      <td>1</td>\n",
       "      <td>AI563823</td>\n",
       "      <td>2006</td>\n",
       "    </tr>\n",
       "    <tr>\n",
       "      <th>1</th>\n",
       "      <td>4577_2</td>\n",
       "      <td>4577</td>\n",
       "      <td>2</td>\n",
       "      <td>CI23933</td>\n",
       "      <td>1</td>\n",
       "      <td>AI563783</td>\n",
       "      <td>2006</td>\n",
       "    </tr>\n",
       "    <tr>\n",
       "      <th>2</th>\n",
       "      <td>4577_3</td>\n",
       "      <td>4577</td>\n",
       "      <td>3</td>\n",
       "      <td>CI24917</td>\n",
       "      <td>1</td>\n",
       "      <td>AI564588</td>\n",
       "      <td>2007</td>\n",
       "    </tr>\n",
       "    <tr>\n",
       "      <th>3</th>\n",
       "      <td>4577_4</td>\n",
       "      <td>4577</td>\n",
       "      <td>4</td>\n",
       "      <td>CI24915</td>\n",
       "      <td>1</td>\n",
       "      <td>AI563790</td>\n",
       "      <td>2007</td>\n",
       "    </tr>\n",
       "    <tr>\n",
       "      <th>4</th>\n",
       "      <td>4577_5</td>\n",
       "      <td>4577</td>\n",
       "      <td>5</td>\n",
       "      <td>CI23714</td>\n",
       "      <td>1</td>\n",
       "      <td>AI563766</td>\n",
       "      <td>2006</td>\n",
       "    </tr>\n",
       "  </tbody>\n",
       "</table>\n",
       "</div>"
      ],
      "text/plain": [
       "  user_sequence  user_id  challenge_sequence challenge  programming    Author  \\\n",
       "0        4577_1     4577                   1   CI23855            1  AI563823   \n",
       "1        4577_2     4577                   2   CI23933            1  AI563783   \n",
       "2        4577_3     4577                   3   CI24917            1  AI564588   \n",
       "3        4577_4     4577                   4   CI24915            1  AI563790   \n",
       "4        4577_5     4577                   5   CI23714            1  AI563766   \n",
       "\n",
       "   Year  \n",
       "0  2006  \n",
       "1  2006  \n",
       "2  2007  \n",
       "3  2007  \n",
       "4  2006  "
      ]
     },
     "execution_count": 50,
     "metadata": {},
     "output_type": "execute_result"
    }
   ],
   "source": [
    "test.head()"
   ]
  },
  {
   "cell_type": "code",
   "execution_count": 51,
   "metadata": {
    "scrolled": true
   },
   "outputs": [],
   "source": [
    "# Sample code to add programming to train. SImilarly we can add other features to train and test as well\n",
    "# for x in range(len(users_data_train)):\n",
    "#     print(x)\n",
    "#     users_data_train.loc[x,\"Programming\"] = temp.loc[temp[\"challenge_ID\"] == users_data_train.loc[x,\"challenge\"],\"programming_language\"].values[0] "
   ]
  },
  {
   "cell_type": "code",
   "execution_count": null,
   "metadata": {
    "collapsed": true
   },
   "outputs": [],
   "source": []
  },
  {
   "cell_type": "code",
   "execution_count": 52,
   "metadata": {
    "collapsed": true
   },
   "outputs": [],
   "source": [
    "# get the weight for programming. Recent value is more important\n",
    "weight = []\n",
    "for i in range(10):\n",
    "    weight.append(0.1*i)"
   ]
  },
  {
   "cell_type": "code",
   "execution_count": 53,
   "metadata": {},
   "outputs": [],
   "source": [
    "# create result array using popularity(total) index\n",
    "result = pd.DataFrame(columns=[\"user_sequence\",\"challenge\"]) # Taret Sample\n",
    "val = 0 # for popular array\n",
    "count = 0 # for result array\n",
    "for x in range(int(len(test)/10)): # For N users\n",
    "    user_challenge = test.loc[x*10:((x+1)*10) - 1, \"challenge\"]\n",
    "    program_pref = np.argmax(np.bincount(test.loc[x*10:((x+1)*10) - 1,\"programming\"],weights = weight)) # get the value for programming which is max\n",
    "#     program_count = np.max(np.bincount(test.loc[x*10:((x+1)*10) - 1,\"programming\"])) # get the count value\n",
    "    length_author = len(np.unique(test.loc[x*10:((x+1)*10) - 1,\"Author\"])) # get the number of author\n",
    "    min_year_pref = np.unique(test.loc[x*10:((x+1)*10) - 1, \"Year\"])[0] # min year preference\n",
    "    year_length = len(np.unique(test.loc[x*10:((x+1)*10) - 1, \"Year\"])) # specific year preference\n",
    "    \n",
    "    \n",
    "    val = 0\n",
    "    count = 0\n",
    "    while count!=3: # For forecasting 3 values\n",
    "        result.loc[x*3 + count, \"user_sequence\"] = str(test.loc[x*10, \"user_id\"]) + \"_\" + str(count+11)\n",
    "        \n",
    "        # filter popular array by using program pref and author\n",
    "        popular = temp[temp[\"programming_language\"]==program_pref]\n",
    "        \n",
    "        if year_length == 1:\n",
    "            popular = popular[popular[\"Year\"] == min_year_pref]        \n",
    "        \n",
    "        if length_author == 1:\n",
    "            popular = popular[popular[\"author_ID\"] == test.loc[x*10,\"Author\"]]\n",
    "        \n",
    "        popular.index = np.arange(0,len(popular))\n",
    "        \n",
    "        if len(popular)<15:\n",
    "            popular = pd.concat([popular,temp.loc[temp[\"programming_language\"]==program_pref,:]])\n",
    "            popular.index = np.arange(0,len(popular))\n",
    "        \n",
    "        # Check whether user has already taken the challenge or not\n",
    "        if len(user_challenge[user_challenge == popular.loc[val,\"challenge_ID\"]]) == 0:\n",
    "            result.loc[x*3 + count, \"challenge\"] = popular.loc[val,\"challenge_ID\"]\n",
    "            val += 1\n",
    "            count = count + 1\n",
    "        else:\n",
    "            val += 1"
   ]
  },
  {
   "cell_type": "code",
   "execution_count": 54,
   "metadata": {
    "collapsed": true
   },
   "outputs": [],
   "source": [
    "result.to_csv(\"Final_Results2.csv\", index=False)"
   ]
  },
  {
   "cell_type": "code",
   "execution_count": null,
   "metadata": {
    "collapsed": true
   },
   "outputs": [],
   "source": [
    "# could have done similar user analysis as well to increase the accuracy. But due to my slow machine did not get much time to do\n",
    "# Not an excuse. But this is my first attempt. I really want to be at Mckinsey and looking for Full time as a Data Scientist in\n",
    "# United States. Please contact me at 7747012186 or email me at dasanghavi@wpi.edu"
   ]
  }
 ],
 "metadata": {
  "kernelspec": {
   "display_name": "Python 3",
   "language": "python",
   "name": "python3"
  },
  "language_info": {
   "codemirror_mode": {
    "name": "ipython",
    "version": 3
   },
   "file_extension": ".py",
   "mimetype": "text/x-python",
   "name": "python",
   "nbconvert_exporter": "python",
   "pygments_lexer": "ipython3",
   "version": "3.6.3"
  }
 },
 "nbformat": 4,
 "nbformat_minor": 2
}
